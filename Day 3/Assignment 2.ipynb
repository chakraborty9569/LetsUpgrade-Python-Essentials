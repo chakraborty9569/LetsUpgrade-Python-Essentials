{
 "cells": [
  {
   "cell_type": "markdown",
   "metadata": {},
   "source": [
    "# Question 1"
   ]
  },
  {
   "cell_type": "code",
   "execution_count": 1,
   "metadata": {},
   "outputs": [
    {
     "name": "stdout",
     "output_type": "stream",
     "text": [
      "[4, 6, 9, 2, 3, 5]\n"
     ]
    }
   ],
   "source": [
    "l=[4,6,9,2,4,6,3,5,5,9]\n",
    "rl=[]\n",
    "for i in l:\n",
    "    if i not in rl:\n",
    "        rl.append(i)\n",
    "print(rl)"
   ]
  },
  {
   "cell_type": "markdown",
   "metadata": {},
   "source": [
    "# Question 2"
   ]
  },
  {
   "cell_type": "code",
   "execution_count": 2,
   "metadata": {},
   "outputs": [
    {
     "name": "stdout",
     "output_type": "stream",
     "text": [
      "[2, 0, 4, -6, -6, -3, 3]\n"
     ]
    }
   ],
   "source": [
    "l1=[4,6,9,2,3,1,8]\n",
    "l2=[2,6,5,8,9,4,5]\n",
    "res=[]\n",
    "for i in range(0,len(l1)):\n",
    "    res.append(l1[i]-l2[i])\n",
    "print(res)"
   ]
  },
  {
   "cell_type": "markdown",
   "metadata": {},
   "source": [
    "# Question 3"
   ]
  },
  {
   "cell_type": "code",
   "execution_count": 6,
   "metadata": {},
   "outputs": [
    {
     "name": "stdout",
     "output_type": "stream",
     "text": [
      "Frequency of 4 is 2\n",
      "Frequency of 6 is 2\n",
      "Frequency of 9 is 2\n",
      "Frequency of 2 is 1\n",
      "Frequency of 3 is 1\n",
      "Frequency of 5 is 2\n"
     ]
    }
   ],
   "source": [
    "l=[4,6,9,2,4,6,3,5,5,9]\n",
    "rl=[]\n",
    "for i in l:\n",
    "    if i not in rl:\n",
    "        rl.append(i)\n",
    "for i in rl:\n",
    "    count=0\n",
    "    for j in l:\n",
    "        if i==j:\n",
    "            count=count+1\n",
    "    print(\"Frequency of\",i,\"is\",count)"
   ]
  },
  {
   "cell_type": "markdown",
   "metadata": {},
   "source": [
    "# Question 4"
   ]
  },
  {
   "cell_type": "code",
   "execution_count": 7,
   "metadata": {},
   "outputs": [
    {
     "name": "stdout",
     "output_type": "stream",
     "text": [
      "Color1-Color2: ['red', 'orange', 'white']\n",
      "Color2-Color1: ['black', 'yellow']\n"
     ]
    }
   ],
   "source": [
    "c1=[\"red\", \"orange\", \"green\", \"blue\", \"white\"]\n",
    "c2=[\"black\", \"yellow\", \"green\", \"blue\"]\n",
    "c1_c2=[]\n",
    "c2_c1=[]\n",
    "for i in c1:\n",
    "    if i not in c2:\n",
    "        c1_c2.append(i)\n",
    "for i in c2:\n",
    "    if i not in c1:\n",
    "        c2_c1.append(i)\n",
    "print(\"Color1-Color2:\",c1_c2)\n",
    "print(\"Color2-Color1:\",c2_c1)"
   ]
  },
  {
   "cell_type": "markdown",
   "metadata": {},
   "source": [
    "# Question 5"
   ]
  },
  {
   "cell_type": "code",
   "execution_count": 8,
   "metadata": {},
   "outputs": [],
   "source": [
    "def longest(l):\n",
    "    maximum=len(l[0])\n",
    "    for i in l:\n",
    "        if maximum<len(i):\n",
    "            maximum=len(i)\n",
    "    return maximum"
   ]
  },
  {
   "cell_type": "code",
   "execution_count": 9,
   "metadata": {},
   "outputs": [
    {
     "name": "stdout",
     "output_type": "stream",
     "text": [
      "11\n"
     ]
    }
   ],
   "source": [
    "print(longest(['Sumit','plays','cricket','and','studies','engineering']))"
   ]
  },
  {
   "cell_type": "markdown",
   "metadata": {},
   "source": [
    "# Question 6"
   ]
  },
  {
   "cell_type": "code",
   "execution_count": 11,
   "metadata": {},
   "outputs": [
    {
     "name": "stdout",
     "output_type": "stream",
     "text": [
      "Enter the sentenceSumit is a boy and Sumit is a student\n",
      "Frequency of Sumit is : 2\n",
      "Frequency of is is : 2\n",
      "Frequency of a is : 2\n",
      "Frequency of boy is : 1\n",
      "Frequency of and is : 1\n",
      "Frequency of student is : 1\n"
     ]
    }
   ],
   "source": [
    "str=input('Enter the sentence')\n",
    "str = str.split()          \n",
    "str2 = [] \n",
    "for i in str:\n",
    "    if i not in str2:\n",
    "        str2.append(i)\n",
    "for i in range(0, len(str2)):\n",
    "    print('Frequency of',str2[i], ':',str.count(str2[i]))"
   ]
  },
  {
   "cell_type": "markdown",
   "metadata": {},
   "source": [
    "# Question 7"
   ]
  },
  {
   "cell_type": "code",
   "execution_count": 14,
   "metadata": {},
   "outputs": [
    {
     "name": "stdout",
     "output_type": "stream",
     "text": [
      "Enter the textA big brown fox\n",
      "Number of vowels: 4\n",
      "['A', 'i', 'o']\n"
     ]
    }
   ],
   "source": [
    "str=input('Enter the text')\n",
    "vow=[]\n",
    "for i in str:\n",
    "    if(i=='a' or i=='e' or i=='i' or i=='o' or i=='u' or i=='A' or i=='E' or i=='I' or i=='O' or i=='U'):\n",
    "        vow.append(i)\n",
    "print('Number of vowels:',len(vow))\n",
    "print(list(set(vow)))"
   ]
  },
  {
   "cell_type": "markdown",
   "metadata": {},
   "source": [
    "# Question 8"
   ]
  },
  {
   "cell_type": "code",
   "execution_count": 15,
   "metadata": {},
   "outputs": [
    {
     "name": "stdout",
     "output_type": "stream",
     "text": [
      "6\n",
      "{1: 1, 2: 4, 3: 9, 4: 16, 5: 25, 6: 36}\n"
     ]
    }
   ],
   "source": [
    "n=int(input())\n",
    "d=dict()\n",
    "for i in range(1,n+1):\n",
    "    d[i]=i*i\n",
    "print(d)"
   ]
  },
  {
   "cell_type": "markdown",
   "metadata": {},
   "source": [
    "# Question 9"
   ]
  },
  {
   "cell_type": "code",
   "execution_count": 16,
   "metadata": {},
   "outputs": [
    {
     "name": "stdout",
     "output_type": "stream",
     "text": [
      "Counter({'a': 400, 'b': 400, 'd': 400, 'c': 300})\n"
     ]
    }
   ],
   "source": [
    "from collections import Counter \n",
    "dict1 = {'a': 100, 'b': 200, 'c':300} \n",
    "dict2 = {'a': 300, 'b': 200, 'd':400}           \n",
    "Cdict = Counter(dict1) + Counter(dict2) \n",
    "print(Cdict) "
   ]
  },
  {
   "cell_type": "markdown",
   "metadata": {},
   "source": [
    "# Question 10"
   ]
  },
  {
   "cell_type": "code",
   "execution_count": 18,
   "metadata": {},
   "outputs": [
    {
     "name": "stdout",
     "output_type": "stream",
     "text": [
      "Unique Values: {'S005', 'S001', 'S009', 'S007', 'S002'}\n"
     ]
    }
   ],
   "source": [
    "L = [{\"V\":\"S001\"}, {\"V\": \"S002\"}, {\"VI\": \"S001\"}, {\"VI\": \"S005\"}, {\"VII\":\"S005\"}, {\"V\":\"S009\"},{\"VIII\":\"S007\"}]\n",
    "u_value = set( val for dic in L for val in dic.values())\n",
    "print(\"Unique Values:\",u_value)"
   ]
  },
  {
   "cell_type": "code",
   "execution_count": null,
   "metadata": {},
   "outputs": [],
   "source": []
  }
 ],
 "metadata": {
  "kernelspec": {
   "display_name": "Python 3",
   "language": "python",
   "name": "python3"
  },
  "language_info": {
   "codemirror_mode": {
    "name": "ipython",
    "version": 3
   },
   "file_extension": ".py",
   "mimetype": "text/x-python",
   "name": "python",
   "nbconvert_exporter": "python",
   "pygments_lexer": "ipython3",
   "version": "3.7.6"
  }
 },
 "nbformat": 4,
 "nbformat_minor": 4
}
