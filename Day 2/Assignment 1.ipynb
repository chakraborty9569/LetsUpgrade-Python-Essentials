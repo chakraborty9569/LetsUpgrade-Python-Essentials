{
 "cells": [
  {
   "cell_type": "markdown",
   "metadata": {},
   "source": [
    "# Question 1"
   ]
  },
  {
   "cell_type": "code",
   "execution_count": 1,
   "metadata": {},
   "outputs": [
    {
     "name": "stdout",
     "output_type": "stream",
     "text": [
      "41.2\n"
     ]
    }
   ],
   "source": [
    "x=5\n",
    "print(2*x+5/x**2+5*x+6)"
   ]
  },
  {
   "cell_type": "code",
   "execution_count": 2,
   "metadata": {},
   "outputs": [
    {
     "name": "stdout",
     "output_type": "stream",
     "text": [
      "70.0\n"
     ]
    }
   ],
   "source": [
    "print(x**2+5*x+6/2*x+5)"
   ]
  },
  {
   "cell_type": "code",
   "execution_count": 3,
   "metadata": {},
   "outputs": [
    {
     "name": "stdout",
     "output_type": "stream",
     "text": [
      "-28\n"
     ]
    }
   ],
   "source": [
    "print((2*x-3)*(x-9))"
   ]
  },
  {
   "cell_type": "markdown",
   "metadata": {},
   "source": [
    "# Question 2"
   ]
  },
  {
   "cell_type": "code",
   "execution_count": 6,
   "metadata": {},
   "outputs": [
    {
     "name": "stdout",
     "output_type": "stream",
     "text": [
      "Enter Username: india\n",
      "Enter Password: Inddsj\n",
      "Wrong password! Enter again: India\n",
      "Login Successfull!\n"
     ]
    }
   ],
   "source": [
    "uname=input(\"Enter Username: \")\n",
    "while True:\n",
    "    i=0\n",
    "    while uname!='india' and i!=2:\n",
    "        uname=input(\"Wrong username! Enter again: \")\n",
    "        i=i+1\n",
    "    if i==2:\n",
    "        print(\"Try again after 5 mins.\")\n",
    "        break\n",
    "    i=0\n",
    "    password=input(\"Enter Password: \")\n",
    "    while password!='India' and i!=5:\n",
    "        password=input(\"Wrong password! Enter again: \")\n",
    "        i=i+1\n",
    "    if i==5:\n",
    "        print(\"Unsuccessfull Login!\")\n",
    "        print(\"Try again after 5 mins.\")\n",
    "        break\n",
    "    print(\"Login Successfull!\")\n",
    "    break"
   ]
  },
  {
   "cell_type": "code",
   "execution_count": null,
   "metadata": {},
   "outputs": [],
   "source": []
  }
 ],
 "metadata": {
  "kernelspec": {
   "display_name": "Python 3",
   "language": "python",
   "name": "python3"
  },
  "language_info": {
   "codemirror_mode": {
    "name": "ipython",
    "version": 3
   },
   "file_extension": ".py",
   "mimetype": "text/x-python",
   "name": "python",
   "nbconvert_exporter": "python",
   "pygments_lexer": "ipython3",
   "version": "3.7.6"
  }
 },
 "nbformat": 4,
 "nbformat_minor": 4
}
